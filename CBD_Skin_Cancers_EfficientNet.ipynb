{
  "nbformat": 4,
  "nbformat_minor": 0,
  "metadata": {
    "kernelspec": {
      "display_name": "Python 3",
      "language": "python",
      "name": "python3"
    },
    "language_info": {
      "codemirror_mode": {
        "name": "ipython",
        "version": 3
      },
      "file_extension": ".py",
      "mimetype": "text/x-python",
      "name": "python",
      "nbconvert_exporter": "python",
      "pygments_lexer": "ipython3",
      "version": "3.7.6"
    },
    "colab": {
      "name": "CBD_Skin_Cancers_EfficientNet.ipynb",
      "provenance": [],
      "collapsed_sections": [],
      "toc_visible": true,
      "include_colab_link": true
    },
    "accelerator": "GPU"
  },
  "cells": [
    {
      "cell_type": "markdown",
      "metadata": {
        "id": "view-in-github",
        "colab_type": "text"
      },
      "source": [
        "<a href=\"https://colab.research.google.com/github/maisonhai3/CBD_Skin_Cancer/blob/master/CBD_Skin_Cancers_EfficientNet.ipynb\" target=\"_parent\"><img src=\"https://colab.research.google.com/assets/colab-badge.svg\" alt=\"Open In Colab\"/></a>"
      ]
    },
    {
      "cell_type": "markdown",
      "metadata": {
        "id": "L8vWQw1mLDs4",
        "colab_type": "text"
      },
      "source": [
        "# Importing and Misc\n"
      ]
    },
    {
      "cell_type": "code",
      "metadata": {
        "id": "EgQe9peXmnWf",
        "colab_type": "code",
        "colab": {
          "base_uri": "https://localhost:8080/",
          "height": 34
        },
        "outputId": "192b0f82-f5ef-497c-fe13-afb76d1c2e01"
      },
      "source": [
        "from google.colab import drive\n",
        "drive.mount('/content/drive', force_remount=True)"
      ],
      "execution_count": null,
      "outputs": [
        {
          "output_type": "stream",
          "text": [
            "Mounted at /content/drive\n"
          ],
          "name": "stdout"
        }
      ]
    },
    {
      "cell_type": "code",
      "metadata": {
        "id": "YNKLvX07tj7k",
        "colab_type": "code",
        "colab": {
          "base_uri": "https://localhost:8080/",
          "height": 34
        },
        "outputId": "9ab44035-3078-4533-8370-75233b42d56e"
      },
      "source": [
        "cd /content/drive/My Drive/Kaggle/Melanoma/External_datasets"
      ],
      "execution_count": null,
      "outputs": [
        {
          "output_type": "stream",
          "text": [
            "/content/drive/My Drive/Kaggle/Melanoma/External_datasets\n"
          ],
          "name": "stdout"
        }
      ]
    },
    {
      "cell_type": "code",
      "metadata": {
        "id": "9Ca7fS3-pJni",
        "colab_type": "code",
        "colab": {
          "base_uri": "https://localhost:8080/",
          "height": 52
        },
        "outputId": "c0137ab7-f675-4198-fdbd-fd4e0aa4fed6"
      },
      "source": [
        "## Download HAIR images for Hair-augmentation\n",
        "'''\n",
        "! mkdir melanoma-hairs\n",
        "! cd melanoma-hairs\n",
        "! kaggle datasets download -d nroman/melanoma-hairs\n",
        "! unzip -o -q melanoma_hairs.zip\n",
        "'''\n",
        "\n",
        "\n",
        "## Prepare EXTERNAL datasets\n",
        "'''\n",
        "! mkdir '/content/drive/My Drive/Kaggle/Melanoma/External_datasets'\n",
        "! cd '/content/drive/My Drive/Kaggle/Melanoma/External_datasets/'\n",
        "! kaggle datasets download -d nroman/melanoma-external-malignant-256\n",
        "! unzip -o -q melanoma-external-malignant-256.zip\n",
        "'''"
      ],
      "execution_count": null,
      "outputs": [
        {
          "output_type": "execute_result",
          "data": {
            "application/vnd.google.colaboratory.intrinsic+json": {
              "type": "string"
            },
            "text/plain": [
              "\"\\n! mkdir '/content/drive/My Drive/Kaggle/Melanoma/External_datasets'\\n! cd '/content/drive/My Drive/Kaggle/Melanoma/External_datasets/'\\n! kaggle datasets download -d nroman/melanoma-external-malignant-256\\n! unzip -o -q melanoma-external-malignant-256.zip\\n\""
            ]
          },
          "metadata": {
            "tags": []
          },
          "execution_count": 3
        }
      ]
    },
    {
      "cell_type": "code",
      "metadata": {
        "_kg_hide-output": true,
        "id": "U0SUBzyvjs2m",
        "colab_type": "code",
        "colab": {}
      },
      "source": [
        "!pip install -q efficientnet_pytorch torchtoolbox"
      ],
      "execution_count": null,
      "outputs": []
    },
    {
      "cell_type": "code",
      "metadata": {
        "_cell_guid": "b1076dfc-b9ad-4769-8c92-a6c4dae69d19",
        "_uuid": "8f2839f25d086af736a60e9eeb907d3b93b6e0e5",
        "id": "SUymn8eIjs2t",
        "colab_type": "code",
        "colab": {
          "base_uri": "https://localhost:8080/",
          "height": 51
        },
        "outputId": "a5cff9d1-4e9f-4e53-d419-ea3447dc8ec2"
      },
      "source": [
        "# General libs\n",
        "import pandas as pd\n",
        "import numpy as np\n",
        "\n",
        "# PyTorch\n",
        "import torch\n",
        "import torchvision\n",
        "import torch.nn.functional as F\n",
        "import torch.nn as nn\n",
        "\n",
        "# PyTorch toolboxes\n",
        "import torchtoolbox.transform as transforms\n",
        "from torch.utils.data import Dataset, DataLoader, Subset\n",
        "from torch.optim.lr_scheduler import ReduceLROnPlateau\n",
        "\n",
        "# Validation\n",
        "from sklearn.metrics import accuracy_score, roc_auc_score\n",
        "from sklearn.model_selection import StratifiedKFold, GroupKFold, KFold\n",
        "\n",
        "# CV2 + OS stuff\n",
        "import gc \n",
        "import os\n",
        "import cv2\n",
        "import time\n",
        "\n",
        "# Models\n",
        "from efficientnet_pytorch import EfficientNet\n",
        "\n",
        "# Misc\n",
        "import datetime\n",
        "import warnings\n",
        "import random\n",
        "\n",
        "# Plotting\n",
        "import matplotlib.pyplot as plt\n",
        "import seaborn as sns\n",
        "%matplotlib inline"
      ],
      "execution_count": null,
      "outputs": [
        {
          "output_type": "stream",
          "text": [
            "/usr/local/lib/python3.6/dist-packages/statsmodels/tools/_testing.py:19: FutureWarning: pandas.util.testing is deprecated. Use the functions in the public API at pandas.testing instead.\n",
            "  import pandas.util.testing as tm\n"
          ],
          "name": "stderr"
        }
      ]
    },
    {
      "cell_type": "code",
      "metadata": {
        "id": "PctTWga2js2y",
        "colab_type": "code",
        "colab": {}
      },
      "source": [
        "# Seeding\n",
        "warnings.simplefilter('ignore')\n",
        "def seed_everything(seed):\n",
        "    random.seed(seed)\n",
        "    os.environ['PYTHONHASHSEED'] = str(seed)\n",
        "    np.random.seed(seed)\n",
        "    torch.manual_seed(seed)\n",
        "    torch.cuda.manual_seed(seed)\n",
        "    torch.backends.cudnn.deterministic = True # Cai nay la gi\n",
        "    torch.backends.cudnn.benchmark = True # Cai nay la gi?\n",
        "\n",
        "seed_everything(47)"
      ],
      "execution_count": null,
      "outputs": []
    },
    {
      "cell_type": "code",
      "metadata": {
        "id": "suJnudwqjs22",
        "colab_type": "code",
        "colab": {}
      },
      "source": [
        "device = torch.device(\"cuda\" if torch.cuda.is_available() else \"cpu\")"
      ],
      "execution_count": null,
      "outputs": []
    },
    {
      "cell_type": "markdown",
      "metadata": {
        "id": "hSMsl412N1Mu",
        "colab_type": "text"
      },
      "source": [
        "# Classes Definitions\n",
        "\n"
      ]
    },
    {
      "cell_type": "markdown",
      "metadata": {
        "id": "U84MZm-kODBj",
        "colab_type": "text"
      },
      "source": [
        "## Loading Datasets\n"
      ]
    },
    {
      "cell_type": "code",
      "metadata": {
        "id": "uN9NCev1js27",
        "colab_type": "code",
        "colab": {}
      },
      "source": [
        "class MelanomaDataset(Dataset):\n",
        "    def __init__(self, df: pd.DataFrame, imfolder: str, train: bool = True, transforms = None, meta_features = None):\n",
        "        \"\"\"\n",
        "        Class initialization\n",
        "        Args:\n",
        "            df (pd.DataFrame): DataFrame with data description\n",
        "            imfolder (str): folder with images\n",
        "            train (bool): flag of whether a training dataset is being initialized or testing one\n",
        "            transforms: image transformation method to be applied\n",
        "            meta_features (list): list of features with meta information, such as sex and age\n",
        "            \n",
        "        \"\"\"\n",
        "        self.df = df\n",
        "        self.imfolder = imfolder\n",
        "        self.transforms = transforms\n",
        "        self.train = train\n",
        "        self.meta_features = meta_features\n",
        "        \n",
        "    def __getitem__(self, index):\n",
        "        im_path = os.path.join(self.imfolder, self.df.iloc[index]['image_name'] + '.jpg')\n",
        "        x = cv2.imread(im_path)\n",
        "        meta = np.array(self.df.iloc[index][self.meta_features].values, dtype=np.float32)\n",
        "\n",
        "        if self.transforms:\n",
        "            x = self.transforms(x)\n",
        "            \n",
        "        if self.train:\n",
        "            y = self.df.iloc[index]['target']\n",
        "            return (x, meta), y\n",
        "        else:\n",
        "            return (x, meta)\n",
        "    \n",
        "    def __len__(self):\n",
        "        return len(self.df)\n",
        "    \n"
      ],
      "execution_count": null,
      "outputs": []
    },
    {
      "cell_type": "markdown",
      "metadata": {
        "id": "bMOB1RTTMBKU",
        "colab_type": "text"
      },
      "source": [
        "## The EfficientNet Model"
      ]
    },
    {
      "cell_type": "code",
      "metadata": {
        "id": "qw5uyP7i2wzA",
        "colab_type": "code",
        "colab": {}
      },
      "source": [
        "class Net(nn.Module):\n",
        "    def __init__(self, arch, n_meta_features: int):\n",
        "        super(Net, self).__init__()\n",
        "        # arch: model for images\n",
        "        self.arch = arch\n",
        "        if 'ResNet' in str(arch.__class__):\n",
        "            self.arch.fc = nn.Linear(in_features=512, out_features=500, bias=True)\n",
        "        if 'EfficientNet' in str(arch.__class__):                                   # We are using EfficientNet\n",
        "            self.arch._fc = nn.Linear(in_features=1280, out_features=500, bias=True)\n",
        "        # meta: to deal with meta data: age, sex..\n",
        "        self.meta = nn.Sequential(nn.Linear(n_meta_features, 500),\n",
        "                                  nn.BatchNorm1d(500),\n",
        "                                  nn.ReLU(),\n",
        "                                  nn.Dropout(p=0.2),\n",
        "                                  nn.Linear(500, 250),  # FC layer output will have 250 features\n",
        "                                  nn.BatchNorm1d(250),\n",
        "                                  nn.ReLU(),\n",
        "                                  nn.Dropout(p=0.2))\n",
        "        self.ouput = nn.Linear(500 + 250, 1)\n",
        "        \n",
        "    def forward(self, inputs):\n",
        "        \"\"\"\n",
        "        No sigmoid in forward because we are going to use BCEWithLogitsLoss\n",
        "        Which applies sigmoid for us when calculating a loss\n",
        "        \"\"\"\n",
        "        x, meta = inputs\n",
        "        cnn_features = self.arch(x)\n",
        "        meta_features = self.meta(meta)\n",
        "        features = torch.cat((cnn_features, meta_features), dim=1)\n",
        "        output = self.ouput(features)\n",
        "        return output"
      ],
      "execution_count": null,
      "outputs": []
    },
    {
      "cell_type": "markdown",
      "metadata": {
        "id": "TuWbRk9kOHjq",
        "colab_type": "text"
      },
      "source": [
        "## Augmentation"
      ]
    },
    {
      "cell_type": "markdown",
      "metadata": {
        "id": "ihwbEglKMkC4",
        "colab_type": "text"
      },
      "source": [
        "### Adding Hairs\n"
      ]
    },
    {
      "cell_type": "code",
      "metadata": {
        "id": "lUpgNuZGNaE1",
        "colab_type": "code",
        "colab": {}
      },
      "source": [
        "hair_folder_path = '/content/drive/My Drive/Kaggle/Melanoma/melanoma-hairs' "
      ],
      "execution_count": null,
      "outputs": []
    },
    {
      "cell_type": "code",
      "metadata": {
        "id": "q3SgIF1_js2_",
        "colab_type": "code",
        "colab": {}
      },
      "source": [
        "class AdvancedHairAugmentation:\n",
        "    \"\"\"\n",
        "    Impose an image of a hair to the target image\n",
        "\n",
        "    Args:\n",
        "        hairs (int): maximum number of hairs to impose\n",
        "        hairs_folder (str): path to the folder with hairs images\n",
        "    \"\"\"\n",
        "\n",
        "    def __init__(self, hairs: int = 5, hairs_folder: str = \"\"):\n",
        "        self.hairs = hairs\n",
        "        self.hairs_folder = hairs_folder\n",
        "\n",
        "    def __call__(self, img):\n",
        "        \"\"\"\n",
        "        Args:\n",
        "            img (PIL Image): Image to draw hairs on.\n",
        "\n",
        "        Returns:\n",
        "            PIL Image: Image with drawn hairs.\n",
        "        \"\"\"\n",
        "        n_hairs = random.randint(0, self.hairs)\n",
        "        \n",
        "        if not n_hairs:\n",
        "            return img\n",
        "        \n",
        "        height, width, _ = img.shape  # target image width and height\n",
        "        hair_images = [im for im in os.listdir(self.hairs_folder) if 'png' in im]\n",
        "        \n",
        "        for _ in range(n_hairs):\n",
        "            hair = cv2.imread(os.path.join(self.hairs_folder, random.choice(hair_images)))\n",
        "            hair = cv2.flip(hair, random.choice([-1, 0, 1]))\n",
        "            hair = cv2.rotate(hair, random.choice([0, 1, 2]))\n",
        "\n",
        "            h_height, h_width, _ = hair.shape  # hair image width and height\n",
        "            roi_ho = random.randint(0, img.shape[0] - hair.shape[0])\n",
        "            roi_wo = random.randint(0, img.shape[1] - hair.shape[1])\n",
        "            roi = img[roi_ho:roi_ho + h_height, roi_wo:roi_wo + h_width]\n",
        "\n",
        "            # Creating a mask and inverse mask\n",
        "            img2gray = cv2.cvtColor(hair, cv2.COLOR_BGR2GRAY)\n",
        "            ret, mask = cv2.threshold(img2gray, 10, 255, cv2.THRESH_BINARY)\n",
        "            mask_inv = cv2.bitwise_not(mask)\n",
        "\n",
        "            # Now black-out the area of hair in ROI\n",
        "            img_bg = cv2.bitwise_and(roi, roi, mask=mask_inv)\n",
        "\n",
        "            # Take only region of hair from hair image.\n",
        "            hair_fg = cv2.bitwise_and(hair, hair, mask=mask)\n",
        "\n",
        "            # Put hair in ROI and modify the target image\n",
        "            dst = cv2.add(img_bg, hair_fg)\n",
        "\n",
        "            img[roi_ho:roi_ho + h_height, roi_wo:roi_wo + h_width] = dst\n",
        "                \n",
        "        return img\n",
        "\n",
        "    def __repr__(self):\n",
        "        return f'{self.__class__.__name__}(hairs={self.hairs}, hairs_folder=\"{self.hairs_folder}\")'"
      ],
      "execution_count": null,
      "outputs": []
    },
    {
      "cell_type": "markdown",
      "metadata": {
        "id": "y2vKPCVxMutg",
        "colab_type": "text"
      },
      "source": [
        "### Adding Microscope Black Rims"
      ]
    },
    {
      "cell_type": "code",
      "metadata": {
        "id": "0-hOtUXKjs3H",
        "colab_type": "code",
        "colab": {}
      },
      "source": [
        "class Microscope:\n",
        "    \"\"\"\n",
        "    Cutting out the edges around the center circle of the image\n",
        "    Imitating a picture, taken through the microscope\n",
        "\n",
        "    Args:\n",
        "        p (float): probability of applying an augmentation\n",
        "    \"\"\"\n",
        "\n",
        "    def __init__(self, p: float = 0.5):\n",
        "        self.p = p\n",
        "\n",
        "    def __call__(self, img):\n",
        "        \"\"\"\n",
        "        Args:\n",
        "            img (PIL Image): Image to apply transformation to.\n",
        "\n",
        "        Returns:\n",
        "            PIL Image: Image with transformation.\n",
        "        \"\"\"\n",
        "        if random.random() < self.p:\n",
        "            circle = cv2.circle((np.ones(img.shape) * 255).astype(np.uint8), # image placeholder\n",
        "                        (img.shape[0]//2, img.shape[1]//2), # center point of circle\n",
        "                        random.randint(img.shape[0]//2 - 3, img.shape[0]//2 + 15), # radius\n",
        "                        (0, 0, 0), # color\n",
        "                        -1)\n",
        "\n",
        "            mask = circle - 255\n",
        "            img = np.multiply(img, mask)\n",
        "        \n",
        "        return img\n",
        "\n",
        "    def __repr__(self):\n",
        "        return f'{self.__class__.__name__}(p={self.p})'"
      ],
      "execution_count": null,
      "outputs": []
    },
    {
      "cell_type": "markdown",
      "metadata": {
        "id": "dty5EFFmOOHj",
        "colab_type": "text"
      },
      "source": [
        "# Data Transforming\n"
      ]
    },
    {
      "cell_type": "markdown",
      "metadata": {
        "id": "M-An2GvdNwYL",
        "colab_type": "text"
      },
      "source": [
        "## Image Transforming\n"
      ]
    },
    {
      "cell_type": "code",
      "metadata": {
        "id": "zOzBEidhjs3L",
        "colab_type": "code",
        "colab": {}
      },
      "source": [
        "train_transform = transforms.Compose([\n",
        "    AdvancedHairAugmentation(hairs_folder=hair_folder_path), # HAIRS = place here\n",
        "    transforms.RandomResizedCrop(size=256, scale=(0.8, 1.0)),\n",
        "    transforms.RandomHorizontalFlip(),\n",
        "    transforms.RandomVerticalFlip(),\n",
        "    Microscope(p=0.5),\n",
        "    transforms.ToTensor(),\n",
        "    transforms.Normalize(mean=[0.485, 0.456, 0.406],std=[0.229, 0.224, 0.225])\n",
        "])\n",
        "\n",
        "# ??? Images from test and train are transform differently ???\n",
        "test_transform = transforms.Compose([\n",
        "    transforms.ToTensor(),\n",
        "    transforms.Normalize(mean=[0.485, 0.456, 0.406],std=[0.229, 0.224, 0.225])\n",
        "])"
      ],
      "execution_count": null,
      "outputs": []
    },
    {
      "cell_type": "markdown",
      "metadata": {
        "id": "RB8e3794N1lf",
        "colab_type": "text"
      },
      "source": [
        "## Metadata Transforming"
      ]
    },
    {
      "cell_type": "code",
      "metadata": {
        "id": "LibltgNxjs3V",
        "colab_type": "code",
        "colab": {}
      },
      "source": [
        "train_df = pd.read_csv('/content/drive/My Drive/Kaggle/Melanoma/External_datasets/train.csv') # Using EXTERNAL 256x256\n",
        "test_df = pd.read_csv('/content/drive/My Drive/Kaggle/Melanoma/External_datasets/test.csv') # Using EXTERNAL 256x256"
      ],
      "execution_count": null,
      "outputs": []
    },
    {
      "cell_type": "code",
      "metadata": {
        "id": "I5vCzA_Jjs3Z",
        "colab_type": "code",
        "colab": {}
      },
      "source": [
        "# One-hot encoding of anatom_site_general_challenge feature\n",
        "concat = pd.concat([train_df['anatom_site_general_challenge'], test_df['anatom_site_general_challenge']], ignore_index=True)\n",
        "dummies = pd.get_dummies(concat, dummy_na=True, dtype=np.uint8, prefix='site')\n",
        "train_df = pd.concat([train_df, dummies.iloc[:train_df.shape[0]]], axis=1)\n",
        "test_df = pd.concat([test_df, dummies.iloc[train_df.shape[0]:].reset_index(drop=True)], axis=1)\n",
        "\n",
        "# One-hot encoding: male:1, female:0, missing: -1\n",
        "train_df['sex'] = train_df['sex'].map({'male': 1, 'female': 0})\n",
        "test_df['sex'] = test_df['sex'].map({'male': 1, 'female': 0})\n",
        "train_df['sex'] = train_df['sex'].fillna(-1)\n",
        "test_df['sex'] = test_df['sex'].fillna(-1)\n",
        "\n",
        "# Age features\n",
        "train_df['age_approx'] /= train_df['age_approx'].max()\n",
        "test_df['age_approx'] /= test_df['age_approx'].max()\n",
        "train_df['age_approx'] = train_df['age_approx'].fillna(0)\n",
        "test_df['age_approx'] = test_df['age_approx'].fillna(0)\n",
        "\n",
        "train_df['patient_id'] = train_df['patient_id'].fillna(0)"
      ],
      "execution_count": null,
      "outputs": []
    },
    {
      "cell_type": "code",
      "metadata": {
        "id": "xa7UXvn4js3e",
        "colab_type": "code",
        "colab": {
          "base_uri": "https://localhost:8080/",
          "height": 170
        },
        "outputId": "7f3289df-1dc4-440f-a254-00d113e514d1"
      },
      "source": [
        "meta_features = ['sex', 'age_approx'] + [col for col in train_df.columns if 'site_' in col]\n",
        "meta_features.remove('anatom_site_general_challenge')\n",
        "\n",
        "meta_features"
      ],
      "execution_count": null,
      "outputs": [
        {
          "output_type": "execute_result",
          "data": {
            "text/plain": [
              "['sex',\n",
              " 'age_approx',\n",
              " 'site_head/neck',\n",
              " 'site_lower extremity',\n",
              " 'site_oral/genital',\n",
              " 'site_palms/soles',\n",
              " 'site_torso',\n",
              " 'site_upper extremity',\n",
              " 'site_nan']"
            ]
          },
          "metadata": {
            "tags": []
          },
          "execution_count": 16
        }
      ]
    },
    {
      "cell_type": "code",
      "metadata": {
        "id": "r25AogXEJeeA",
        "colab_type": "code",
        "colab": {}
      },
      "source": [
        "# Using EXTERNAL 256 datasets\n",
        "train_im_folder = '/content/drive/My Drive/Kaggle/Melanoma/External_datasets/train/train/'\n",
        "test_im_folder = '/content/drive/My Drive/Kaggle/Melanoma/External_datasets/test/test/'"
      ],
      "execution_count": null,
      "outputs": []
    },
    {
      "cell_type": "code",
      "metadata": {
        "id": "_IEyIX1bjs3h",
        "colab_type": "code",
        "colab": {}
      },
      "source": [
        "test = MelanomaDataset(df=test_df,\n",
        "                       imfolder=test_im_folder,  \n",
        "                       train=False,\n",
        "                       transforms=train_transform,  # For TTA\n",
        "                       meta_features=meta_features)"
      ],
      "execution_count": null,
      "outputs": []
    },
    {
      "cell_type": "markdown",
      "metadata": {
        "id": "FdatKsYQOVLA",
        "colab_type": "text"
      },
      "source": [
        "# Training + Validating + Predictions\n"
      ]
    },
    {
      "cell_type": "code",
      "metadata": {
        "id": "bJyP7UK5js3l",
        "colab_type": "code",
        "colab": {}
      },
      "source": [
        "skf = GroupKFold(n_splits=5)"
      ],
      "execution_count": null,
      "outputs": []
    },
    {
      "cell_type": "code",
      "metadata": {
        "id": "c9YQu0SVjs3o",
        "colab_type": "code",
        "colab": {
          "base_uri": "https://localhost:8080/",
          "height": 850
        },
        "outputId": "6e30e6b5-24b6-457f-f00c-b9f497935fd2"
      },
      "source": [
        "# Training + Validation + Predictions\n",
        "\n",
        "# Initialization\n",
        "epochs = 12  # Number of epochs to run\n",
        "es_patience = 3  # Early Stopping patience - for how many epochs with no improvements to wait\n",
        "TTA = 3 # Test Time Augmentation rounds\n",
        "\n",
        "oof = np.zeros((len(train_df), 1))  # Out Of Fold predictions\n",
        "preds = torch.zeros((len(test), 1), dtype=torch.float32, device=device)  # Predictions for test test\n",
        "\n",
        "# Training\n",
        "skf = KFold(n_splits=5, shuffle=True, random_state=47)\n",
        "for fold, (train_idx, val_idx) in enumerate(skf.split(X=np.zeros(len(train_df)), y=train_df['target'], groups=train_df['patient_id'].tolist()), 1):\n",
        "    print('=' * 20, 'Fold', fold, '=' * 20)  \n",
        "    \n",
        "    model_path = f'model_{fold}.pth'  # Path and filename to save model to\n",
        "    best_val = 0  # Best validation score within this fold\n",
        "    patience = es_patience  # Current patience counter\n",
        "    \n",
        "    ### our MODEL  !!!\n",
        "    arch = EfficientNet.from_pretrained('efficientnet-b0')  \n",
        "    model = Net(arch=arch, n_meta_features=len(meta_features))  # New model for each fold\n",
        "    model = model.to(device)\n",
        "    \n",
        "    optim = torch.optim.Adam(model.parameters(), lr=0.001)\n",
        "    scheduler = ReduceLROnPlateau(optimizer=optim, mode='max', patience=1, verbose=True, factor=0.2)\n",
        "    criterion = nn.BCEWithLogitsLoss()\n",
        "    \n",
        "    # Data preparing\n",
        "    train = MelanomaDataset(df=train_df.iloc[train_idx].reset_index(drop=True), \n",
        "                            imfolder=train_im_folder, ############\n",
        "                            train=True, \n",
        "                            transforms=train_transform,\n",
        "                            meta_features=meta_features)\n",
        "    val = MelanomaDataset(df=train_df.iloc[val_idx].reset_index(drop=True), \n",
        "                            imfolder=train_im_folder, ###########\n",
        "                            train=True, \n",
        "                            transforms=test_transform,\n",
        "                            meta_features=meta_features)\n",
        "    \n",
        "    train_loader = DataLoader(dataset=train, batch_size=64, shuffle=True, num_workers=2)\n",
        "    val_loader = DataLoader(dataset=val, batch_size=16, shuffle=False, num_workers=2)\n",
        "    test_loader = DataLoader(dataset=test, batch_size=16, shuffle=False, num_workers=2)\n",
        "    \n",
        "    # Training + Validating \n",
        "    for epoch in range(epochs):\n",
        "        start_time = time.time()\n",
        "        correct = 0\n",
        "        epoch_loss = 0\n",
        "        model.train()\n",
        "        \n",
        "        # Training\n",
        "        for x, y in train_loader:\n",
        "            x[0] = torch.tensor(x[0], device=device, dtype=torch.float32)\n",
        "            x[1] = torch.tensor(x[1], device=device, dtype=torch.float32)\n",
        "            y = torch.tensor(y, device=device, dtype=torch.float32)\n",
        "            optim.zero_grad()\n",
        "            z = model(x)\n",
        "            loss = criterion(z, y.unsqueeze(1))\n",
        "            loss.backward()\n",
        "            optim.step()\n",
        "            pred = torch.round(torch.sigmoid(z))  # round off sigmoid to obtain predictions\n",
        "            correct += (pred.cpu() == y.cpu().unsqueeze(1)).sum().item()  # tracking number of correctly predicted samples\n",
        "            epoch_loss += loss.item()\n",
        "        train_acc = correct / len(train_idx)\n",
        "        \n",
        "        # Validation\n",
        "        model.eval()  # switch model to the evaluation mode\n",
        "        val_preds = torch.zeros((len(val_idx), 1), dtype=torch.float32, device=device)\n",
        "        with torch.no_grad():  # Do not calculate gradient since we are only predicting\n",
        "            # Predicting on validation set\n",
        "            for j, (x_val, y_val) in enumerate(val_loader):\n",
        "                x_val[0] = torch.tensor(x_val[0], device=device, dtype=torch.float32)\n",
        "                x_val[1] = torch.tensor(x_val[1], device=device, dtype=torch.float32)\n",
        "                y_val = torch.tensor(y_val, device=device, dtype=torch.float32)\n",
        "                z_val = model(x_val)\n",
        "                val_pred = torch.sigmoid(z_val)\n",
        "                val_preds[j*val_loader.batch_size:j*val_loader.batch_size + x_val[0].shape[0]] = val_pred\n",
        "            val_acc = accuracy_score(train_df.iloc[val_idx]['target'].values, torch.round(val_preds.cpu()))\n",
        "            val_roc = roc_auc_score(train_df.iloc[val_idx]['target'].values, val_preds.cpu())\n",
        "            \n",
        "            # Screen Output\n",
        "            print('Epoch {:03}: | Loss: {:.3f} | Train acc: {:.3f} | Val acc: {:.3f} | Val roc_auc: {:.3f} | Training time: {}'.format(\n",
        "            epoch + 1, # prepare for next loops\n",
        "            epoch_loss, \n",
        "            train_acc, \n",
        "            val_acc, \n",
        "            val_roc, \n",
        "            str(datetime.timedelta(seconds=time.time() - start_time))[:7]))\n",
        "            \n",
        "            scheduler.step(val_roc)\n",
        "            \n",
        "            # Save if got a better score\n",
        "            if val_roc >= best_val:\n",
        "                best_val = val_roc\n",
        "                patience = es_patience  # Resetting patience since we have new best validation accuracy\n",
        "                torch.save(model, model_path)  # Saving current best model\n",
        "            else:\n",
        "                patience -= 1\n",
        "                if patience == 0:\n",
        "                    print('Early stopping. Best Val roc_auc: {:.3f}'.format(best_val))\n",
        "                    break\n",
        "                \n",
        "    model = torch.load(model_path)  # Loading best model of this fold - saved above\n",
        "    model.eval()  # switch model to the evaluation mode\n",
        "    val_preds = torch.zeros((len(val_idx), 1), dtype=torch.float32, device=device)\n",
        "    with torch.no_grad():\n",
        "        # Predicting on validation set once again to obtain data for OOF\n",
        "        for j, (x_val, y_val) in enumerate(val_loader):\n",
        "            x_val[0] = torch.tensor(x_val[0], device=device, dtype=torch.float32)\n",
        "            x_val[1] = torch.tensor(x_val[1], device=device, dtype=torch.float32)\n",
        "            y_val = torch.tensor(y_val, device=device, dtype=torch.float32)\n",
        "            z_val = model(x_val)\n",
        "            val_pred = torch.sigmoid(z_val)\n",
        "            val_preds[j*val_loader.batch_size:j*val_loader.batch_size + x_val[0].shape[0]] = val_pred\n",
        "        oof[val_idx] = val_preds.cpu().numpy()\n",
        "        \n",
        "        # Predicting on test set\n",
        "        tta_preds = torch.zeros((len(test), 1), dtype=torch.float32, device=device)\n",
        "        for _ in range(TTA):\n",
        "            for i, x_test in enumerate(test_loader):\n",
        "                x_test[0] = torch.tensor(x_test[0], device=device, dtype=torch.float32)\n",
        "                x_test[1] = torch.tensor(x_test[1], device=device, dtype=torch.float32)\n",
        "                z_test = model(x_test)\n",
        "                z_test = torch.sigmoid(z_test)\n",
        "                tta_preds[i*test_loader.batch_size:i*test_loader.batch_size + x_test[0].shape[0]] += z_test\n",
        "        preds += tta_preds / TTA\n",
        "    \n",
        "preds /= skf.n_splits"
      ],
      "execution_count": null,
      "outputs": [
        {
          "output_type": "stream",
          "text": [
            "==================== Fold 1 ====================\n",
            "Loaded pretrained weights for efficientnet-b0\n",
            "Epoch 001: | Loss: 36.453 | Train acc: 0.980 | Val acc: 0.984 | Val roc_auc: 0.787 | Training time: 1:30:33\n",
            "Epoch 002: | Loss: 31.719 | Train acc: 0.982 | Val acc: 0.984 | Val roc_auc: 0.796 | Training time: 0:06:41\n",
            "Epoch 003: | Loss: 31.152 | Train acc: 0.982 | Val acc: 0.984 | Val roc_auc: 0.883 | Training time: 0:06:47\n",
            "Epoch 004: | Loss: 30.590 | Train acc: 0.982 | Val acc: 0.984 | Val roc_auc: 0.850 | Training time: 0:06:56\n",
            "Epoch 005: | Loss: 29.682 | Train acc: 0.982 | Val acc: 0.984 | Val roc_auc: 0.852 | Training time: 0:06:54\n",
            "Epoch     5: reducing learning rate of group 0 to 2.0000e-04.\n",
            "Epoch 006: | Loss: 26.986 | Train acc: 0.982 | Val acc: 0.983 | Val roc_auc: 0.886 | Training time: 0:06:50\n",
            "Epoch 007: | Loss: 25.951 | Train acc: 0.982 | Val acc: 0.984 | Val roc_auc: 0.890 | Training time: 0:06:48\n",
            "Epoch 008: | Loss: 24.496 | Train acc: 0.982 | Val acc: 0.983 | Val roc_auc: 0.875 | Training time: 0:06:47\n",
            "Epoch 009: | Loss: 23.441 | Train acc: 0.982 | Val acc: 0.982 | Val roc_auc: 0.896 | Training time: 0:06:47\n",
            "Epoch 010: | Loss: 22.652 | Train acc: 0.983 | Val acc: 0.984 | Val roc_auc: 0.898 | Training time: 0:07:01\n",
            "Epoch 011: | Loss: 21.349 | Train acc: 0.983 | Val acc: 0.982 | Val roc_auc: 0.877 | Training time: 0:07:07\n",
            "Epoch 012: | Loss: 20.392 | Train acc: 0.984 | Val acc: 0.980 | Val roc_auc: 0.887 | Training time: 0:07:02\n",
            "Epoch    12: reducing learning rate of group 0 to 4.0000e-05.\n"
          ],
          "name": "stdout"
        },
        {
          "output_type": "error",
          "ename": "AttributeError",
          "evalue": "ignored",
          "traceback": [
            "\u001b[0;31m---------------------------------------------------------------------------\u001b[0m",
            "\u001b[0;31mAttributeError\u001b[0m                            Traceback (most recent call last)",
            "\u001b[0;32m<ipython-input-20-4a4e3a535add>\u001b[0m in \u001b[0;36m<module>\u001b[0;34m()\u001b[0m\n\u001b[1;32m    119\u001b[0m         \u001b[0mtta_preds\u001b[0m \u001b[0;34m=\u001b[0m \u001b[0mtorch\u001b[0m\u001b[0;34m.\u001b[0m\u001b[0mzeros\u001b[0m\u001b[0;34m(\u001b[0m\u001b[0;34m(\u001b[0m\u001b[0mlen\u001b[0m\u001b[0;34m(\u001b[0m\u001b[0mtest\u001b[0m\u001b[0;34m)\u001b[0m\u001b[0;34m,\u001b[0m \u001b[0;36m1\u001b[0m\u001b[0;34m)\u001b[0m\u001b[0;34m,\u001b[0m \u001b[0mdtype\u001b[0m\u001b[0;34m=\u001b[0m\u001b[0mtorch\u001b[0m\u001b[0;34m.\u001b[0m\u001b[0mfloat32\u001b[0m\u001b[0;34m,\u001b[0m \u001b[0mdevice\u001b[0m\u001b[0;34m=\u001b[0m\u001b[0mdevice\u001b[0m\u001b[0;34m)\u001b[0m\u001b[0;34m\u001b[0m\u001b[0;34m\u001b[0m\u001b[0m\n\u001b[1;32m    120\u001b[0m         \u001b[0;32mfor\u001b[0m \u001b[0m_\u001b[0m \u001b[0;32min\u001b[0m \u001b[0mrange\u001b[0m\u001b[0;34m(\u001b[0m\u001b[0mTTA\u001b[0m\u001b[0;34m)\u001b[0m\u001b[0;34m:\u001b[0m\u001b[0;34m\u001b[0m\u001b[0;34m\u001b[0m\u001b[0m\n\u001b[0;32m--> 121\u001b[0;31m             \u001b[0;32mfor\u001b[0m \u001b[0mi\u001b[0m\u001b[0;34m,\u001b[0m \u001b[0mx_test\u001b[0m \u001b[0;32min\u001b[0m \u001b[0menumerate\u001b[0m\u001b[0;34m(\u001b[0m\u001b[0mtest_loader\u001b[0m\u001b[0;34m)\u001b[0m\u001b[0;34m:\u001b[0m\u001b[0;34m\u001b[0m\u001b[0;34m\u001b[0m\u001b[0m\n\u001b[0m\u001b[1;32m    122\u001b[0m                 \u001b[0mx_test\u001b[0m\u001b[0;34m[\u001b[0m\u001b[0;36m0\u001b[0m\u001b[0;34m]\u001b[0m \u001b[0;34m=\u001b[0m \u001b[0mtorch\u001b[0m\u001b[0;34m.\u001b[0m\u001b[0mtensor\u001b[0m\u001b[0;34m(\u001b[0m\u001b[0mx_test\u001b[0m\u001b[0;34m[\u001b[0m\u001b[0;36m0\u001b[0m\u001b[0;34m]\u001b[0m\u001b[0;34m,\u001b[0m \u001b[0mdevice\u001b[0m\u001b[0;34m=\u001b[0m\u001b[0mdevice\u001b[0m\u001b[0;34m,\u001b[0m \u001b[0mdtype\u001b[0m\u001b[0;34m=\u001b[0m\u001b[0mtorch\u001b[0m\u001b[0;34m.\u001b[0m\u001b[0mfloat32\u001b[0m\u001b[0;34m)\u001b[0m\u001b[0;34m\u001b[0m\u001b[0;34m\u001b[0m\u001b[0m\n\u001b[1;32m    123\u001b[0m                 \u001b[0mx_test\u001b[0m\u001b[0;34m[\u001b[0m\u001b[0;36m1\u001b[0m\u001b[0;34m]\u001b[0m \u001b[0;34m=\u001b[0m \u001b[0mtorch\u001b[0m\u001b[0;34m.\u001b[0m\u001b[0mtensor\u001b[0m\u001b[0;34m(\u001b[0m\u001b[0mx_test\u001b[0m\u001b[0;34m[\u001b[0m\u001b[0;36m1\u001b[0m\u001b[0;34m]\u001b[0m\u001b[0;34m,\u001b[0m \u001b[0mdevice\u001b[0m\u001b[0;34m=\u001b[0m\u001b[0mdevice\u001b[0m\u001b[0;34m,\u001b[0m \u001b[0mdtype\u001b[0m\u001b[0;34m=\u001b[0m\u001b[0mtorch\u001b[0m\u001b[0;34m.\u001b[0m\u001b[0mfloat32\u001b[0m\u001b[0;34m)\u001b[0m\u001b[0;34m\u001b[0m\u001b[0;34m\u001b[0m\u001b[0m\n",
            "\u001b[0;32m/usr/local/lib/python3.6/dist-packages/torch/utils/data/dataloader.py\u001b[0m in \u001b[0;36m__next__\u001b[0;34m(self)\u001b[0m\n\u001b[1;32m    361\u001b[0m \u001b[0;34m\u001b[0m\u001b[0m\n\u001b[1;32m    362\u001b[0m     \u001b[0;32mdef\u001b[0m \u001b[0m__next__\u001b[0m\u001b[0;34m(\u001b[0m\u001b[0mself\u001b[0m\u001b[0;34m)\u001b[0m\u001b[0;34m:\u001b[0m\u001b[0;34m\u001b[0m\u001b[0;34m\u001b[0m\u001b[0m\n\u001b[0;32m--> 363\u001b[0;31m         \u001b[0mdata\u001b[0m \u001b[0;34m=\u001b[0m \u001b[0mself\u001b[0m\u001b[0;34m.\u001b[0m\u001b[0m_next_data\u001b[0m\u001b[0;34m(\u001b[0m\u001b[0;34m)\u001b[0m\u001b[0;34m\u001b[0m\u001b[0;34m\u001b[0m\u001b[0m\n\u001b[0m\u001b[1;32m    364\u001b[0m         \u001b[0mself\u001b[0m\u001b[0;34m.\u001b[0m\u001b[0m_num_yielded\u001b[0m \u001b[0;34m+=\u001b[0m \u001b[0;36m1\u001b[0m\u001b[0;34m\u001b[0m\u001b[0;34m\u001b[0m\u001b[0m\n\u001b[1;32m    365\u001b[0m         \u001b[0;32mif\u001b[0m \u001b[0mself\u001b[0m\u001b[0;34m.\u001b[0m\u001b[0m_dataset_kind\u001b[0m \u001b[0;34m==\u001b[0m \u001b[0m_DatasetKind\u001b[0m\u001b[0;34m.\u001b[0m\u001b[0mIterable\u001b[0m \u001b[0;32mand\u001b[0m\u001b[0;31m \u001b[0m\u001b[0;31m\\\u001b[0m\u001b[0;34m\u001b[0m\u001b[0;34m\u001b[0m\u001b[0m\n",
            "\u001b[0;32m/usr/local/lib/python3.6/dist-packages/torch/utils/data/dataloader.py\u001b[0m in \u001b[0;36m_next_data\u001b[0;34m(self)\u001b[0m\n\u001b[1;32m    987\u001b[0m             \u001b[0;32melse\u001b[0m\u001b[0;34m:\u001b[0m\u001b[0;34m\u001b[0m\u001b[0;34m\u001b[0m\u001b[0m\n\u001b[1;32m    988\u001b[0m                 \u001b[0;32mdel\u001b[0m \u001b[0mself\u001b[0m\u001b[0;34m.\u001b[0m\u001b[0m_task_info\u001b[0m\u001b[0;34m[\u001b[0m\u001b[0midx\u001b[0m\u001b[0;34m]\u001b[0m\u001b[0;34m\u001b[0m\u001b[0;34m\u001b[0m\u001b[0m\n\u001b[0;32m--> 989\u001b[0;31m                 \u001b[0;32mreturn\u001b[0m \u001b[0mself\u001b[0m\u001b[0;34m.\u001b[0m\u001b[0m_process_data\u001b[0m\u001b[0;34m(\u001b[0m\u001b[0mdata\u001b[0m\u001b[0;34m)\u001b[0m\u001b[0;34m\u001b[0m\u001b[0;34m\u001b[0m\u001b[0m\n\u001b[0m\u001b[1;32m    990\u001b[0m \u001b[0;34m\u001b[0m\u001b[0m\n\u001b[1;32m    991\u001b[0m     \u001b[0;32mdef\u001b[0m \u001b[0m_try_put_index\u001b[0m\u001b[0;34m(\u001b[0m\u001b[0mself\u001b[0m\u001b[0;34m)\u001b[0m\u001b[0;34m:\u001b[0m\u001b[0;34m\u001b[0m\u001b[0;34m\u001b[0m\u001b[0m\n",
            "\u001b[0;32m/usr/local/lib/python3.6/dist-packages/torch/utils/data/dataloader.py\u001b[0m in \u001b[0;36m_process_data\u001b[0;34m(self, data)\u001b[0m\n\u001b[1;32m   1012\u001b[0m         \u001b[0mself\u001b[0m\u001b[0;34m.\u001b[0m\u001b[0m_try_put_index\u001b[0m\u001b[0;34m(\u001b[0m\u001b[0;34m)\u001b[0m\u001b[0;34m\u001b[0m\u001b[0;34m\u001b[0m\u001b[0m\n\u001b[1;32m   1013\u001b[0m         \u001b[0;32mif\u001b[0m \u001b[0misinstance\u001b[0m\u001b[0;34m(\u001b[0m\u001b[0mdata\u001b[0m\u001b[0;34m,\u001b[0m \u001b[0mExceptionWrapper\u001b[0m\u001b[0;34m)\u001b[0m\u001b[0;34m:\u001b[0m\u001b[0;34m\u001b[0m\u001b[0;34m\u001b[0m\u001b[0m\n\u001b[0;32m-> 1014\u001b[0;31m             \u001b[0mdata\u001b[0m\u001b[0;34m.\u001b[0m\u001b[0mreraise\u001b[0m\u001b[0;34m(\u001b[0m\u001b[0;34m)\u001b[0m\u001b[0;34m\u001b[0m\u001b[0;34m\u001b[0m\u001b[0m\n\u001b[0m\u001b[1;32m   1015\u001b[0m         \u001b[0;32mreturn\u001b[0m \u001b[0mdata\u001b[0m\u001b[0;34m\u001b[0m\u001b[0;34m\u001b[0m\u001b[0m\n\u001b[1;32m   1016\u001b[0m \u001b[0;34m\u001b[0m\u001b[0m\n",
            "\u001b[0;32m/usr/local/lib/python3.6/dist-packages/torch/_utils.py\u001b[0m in \u001b[0;36mreraise\u001b[0;34m(self)\u001b[0m\n\u001b[1;32m    393\u001b[0m             \u001b[0;31m# (https://bugs.python.org/issue2651), so we work around it.\u001b[0m\u001b[0;34m\u001b[0m\u001b[0;34m\u001b[0m\u001b[0;34m\u001b[0m\u001b[0m\n\u001b[1;32m    394\u001b[0m             \u001b[0mmsg\u001b[0m \u001b[0;34m=\u001b[0m \u001b[0mKeyErrorMessage\u001b[0m\u001b[0;34m(\u001b[0m\u001b[0mmsg\u001b[0m\u001b[0;34m)\u001b[0m\u001b[0;34m\u001b[0m\u001b[0;34m\u001b[0m\u001b[0m\n\u001b[0;32m--> 395\u001b[0;31m         \u001b[0;32mraise\u001b[0m \u001b[0mself\u001b[0m\u001b[0;34m.\u001b[0m\u001b[0mexc_type\u001b[0m\u001b[0;34m(\u001b[0m\u001b[0mmsg\u001b[0m\u001b[0;34m)\u001b[0m\u001b[0;34m\u001b[0m\u001b[0;34m\u001b[0m\u001b[0m\n\u001b[0m",
            "\u001b[0;31mAttributeError\u001b[0m: Caught AttributeError in DataLoader worker process 0.\nOriginal Traceback (most recent call last):\n  File \"/usr/local/lib/python3.6/dist-packages/torch/utils/data/_utils/worker.py\", line 185, in _worker_loop\n    data = fetcher.fetch(index)\n  File \"/usr/local/lib/python3.6/dist-packages/torch/utils/data/_utils/fetch.py\", line 44, in fetch\n    data = [self.dataset[idx] for idx in possibly_batched_index]\n  File \"/usr/local/lib/python3.6/dist-packages/torch/utils/data/_utils/fetch.py\", line 44, in <listcomp>\n    data = [self.dataset[idx] for idx in possibly_batched_index]\n  File \"<ipython-input-8-1ea6b3006749>\", line 25, in __getitem__\n    x = self.transforms(x)\n  File \"/usr/local/lib/python3.6/dist-packages/torchtoolbox/transform/transforms.py\", line 70, in __call__\n    img = t(img)\n  File \"<ipython-input-11-e62fb96f9149>\", line 27, in __call__\n    height, width, _ = img.shape  # target image width and height\nAttributeError: 'NoneType' object has no attribute 'shape'\n"
          ]
        }
      ]
    },
    {
      "cell_type": "code",
      "metadata": {
        "id": "ad84-JfIjs3s",
        "colab_type": "code",
        "colab": {}
      },
      "source": [
        "print('OOF: {:.3f}'.format(roc_auc_score(train_df['target'], oof)))"
      ],
      "execution_count": null,
      "outputs": []
    },
    {
      "cell_type": "code",
      "metadata": {
        "id": "gvd5hnwBjs3w",
        "colab_type": "code",
        "colab": {}
      },
      "source": [
        "sns.kdeplot(pd.Series(preds.cpu().numpy().reshape(-1,)));"
      ],
      "execution_count": null,
      "outputs": []
    },
    {
      "cell_type": "markdown",
      "metadata": {
        "id": "VmH__WVEVBtD",
        "colab_type": "text"
      },
      "source": [
        "# Saving to Files"
      ]
    },
    {
      "cell_type": "code",
      "metadata": {
        "id": "9LtI1ut_js3z",
        "colab_type": "code",
        "colab": {}
      },
      "source": [
        "# Saving OOF predictions so stacking would be easier\n",
        "pd.Series(oof.reshape(-1,)).to_csv('oof.csv', index=False)"
      ],
      "execution_count": null,
      "outputs": []
    },
    {
      "cell_type": "code",
      "metadata": {
        "id": "LKBi0Sa1js35",
        "colab_type": "code",
        "colab": {}
      },
      "source": [
        "sub = pd.read_csv('/content/drive/My Drive/Kaggle/Melanoma/External_datasets/sample_submission.csv')\n",
        "sub['target'] = preds.cpu().numpy().reshape(-1,)\n",
        "sub.to_csv('submission.csv', index=False)"
      ],
      "execution_count": null,
      "outputs": []
    }
  ]
}